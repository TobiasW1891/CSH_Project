{
 "cells": [
  {
   "cell_type": "markdown",
   "id": "779677c1",
   "metadata": {},
   "source": [
    "# Procedure\n",
    "\n",
    "Like in Table 1 in https://www.pnas.org/doi/10.1073/pnas.1708800115#supplementary-materials, I do the following:\n",
    "\n",
    "Split data in training and testing data and train a linear regression for each of the nine CCs by training on the other eight.\n",
    "Calculate the coefficient of prediction $\\rho^2 = 1 - \\frac{ \\sum (Y_i^* - Y_i)^2 }{ \\sum (\\bar{Y} - Y_i)^2}$ that compares prediction $Y_i^*$ to using the mean $\\bar{Y}$. Then, repeat the same with the eight CCs AND using RelTime and see if $\\rho^2$ improves (i.e. increases) or not. We use several train-test-splits and calculate the mean $\\rho^2$.\n",
    "\n",
    "First do this for the entire data set, then only for the cutout values."
   ]
  },
  {
   "cell_type": "code",
   "execution_count": 1,
   "id": "b15831cc",
   "metadata": {},
   "outputs": [],
   "source": [
    "import pandas as pd\n",
    "import numpy as np\n",
    "import matplotlib.pyplot as plt\n",
    "import sklearn\n",
    "from sklearn.model_selection import train_test_split\n",
    "from sklearn.linear_model import LinearRegression as LR\n",
    "import random\n",
    "random.seed(42)\n",
    "n_CVal = 10000"
   ]
  },
  {
   "cell_type": "code",
   "execution_count": 2,
   "id": "0835a0d1",
   "metadata": {},
   "outputs": [],
   "source": [
    "def RhoSq(y_hat, y_true):\n",
    "    y_mean = np.mean(y_true)\n",
    "    return(1 - sum((y_hat-y_true)**2)/sum((y_mean-y_true)**2)  )"
   ]
  },
  {
   "cell_type": "code",
   "execution_count": 3,
   "id": "f685aec6",
   "metadata": {},
   "outputs": [
    {
     "data": {
      "text/html": [
       "<div>\n",
       "<style scoped>\n",
       "    .dataframe tbody tr th:only-of-type {\n",
       "        vertical-align: middle;\n",
       "    }\n",
       "\n",
       "    .dataframe tbody tr th {\n",
       "        vertical-align: top;\n",
       "    }\n",
       "\n",
       "    .dataframe thead th {\n",
       "        text-align: right;\n",
       "    }\n",
       "</style>\n",
       "<table border=\"1\" class=\"dataframe\">\n",
       "  <thead>\n",
       "    <tr style=\"text-align: right;\">\n",
       "      <th></th>\n",
       "      <th>NGA</th>\n",
       "      <th>RelTime</th>\n",
       "      <th>SPC1</th>\n",
       "      <th>PolPop</th>\n",
       "      <th>PolTerr</th>\n",
       "      <th>CapPop</th>\n",
       "      <th>levels</th>\n",
       "      <th>government</th>\n",
       "      <th>infrastr</th>\n",
       "      <th>writing</th>\n",
       "      <th>texts</th>\n",
       "      <th>money</th>\n",
       "    </tr>\n",
       "  </thead>\n",
       "  <tbody>\n",
       "    <tr>\n",
       "      <th>0</th>\n",
       "      <td>Orkhon Valley</td>\n",
       "      <td>-1900</td>\n",
       "      <td>0.315541</td>\n",
       "      <td>4.552769</td>\n",
       "      <td>5.591893</td>\n",
       "      <td>4.007285</td>\n",
       "      <td>2.587429</td>\n",
       "      <td>0.100000</td>\n",
       "      <td>0.075000</td>\n",
       "      <td>0.200000</td>\n",
       "      <td>0.1000</td>\n",
       "      <td>1.0</td>\n",
       "    </tr>\n",
       "    <tr>\n",
       "      <th>1</th>\n",
       "      <td>Orkhon Valley</td>\n",
       "      <td>-1800</td>\n",
       "      <td>0.315541</td>\n",
       "      <td>4.552769</td>\n",
       "      <td>5.591893</td>\n",
       "      <td>4.007285</td>\n",
       "      <td>2.587429</td>\n",
       "      <td>0.100000</td>\n",
       "      <td>0.075000</td>\n",
       "      <td>0.200000</td>\n",
       "      <td>0.1000</td>\n",
       "      <td>1.0</td>\n",
       "    </tr>\n",
       "    <tr>\n",
       "      <th>2</th>\n",
       "      <td>Orkhon Valley</td>\n",
       "      <td>-1700</td>\n",
       "      <td>0.315541</td>\n",
       "      <td>4.552769</td>\n",
       "      <td>5.591893</td>\n",
       "      <td>4.007285</td>\n",
       "      <td>2.587429</td>\n",
       "      <td>0.100000</td>\n",
       "      <td>0.075000</td>\n",
       "      <td>0.200000</td>\n",
       "      <td>0.1000</td>\n",
       "      <td>1.0</td>\n",
       "    </tr>\n",
       "    <tr>\n",
       "      <th>3</th>\n",
       "      <td>Orkhon Valley</td>\n",
       "      <td>-1600</td>\n",
       "      <td>0.315541</td>\n",
       "      <td>4.552769</td>\n",
       "      <td>5.591893</td>\n",
       "      <td>4.007285</td>\n",
       "      <td>2.587429</td>\n",
       "      <td>0.100000</td>\n",
       "      <td>0.075000</td>\n",
       "      <td>0.200000</td>\n",
       "      <td>0.1000</td>\n",
       "      <td>1.0</td>\n",
       "    </tr>\n",
       "    <tr>\n",
       "      <th>4</th>\n",
       "      <td>Orkhon Valley</td>\n",
       "      <td>-1500</td>\n",
       "      <td>0.315541</td>\n",
       "      <td>4.552769</td>\n",
       "      <td>5.591893</td>\n",
       "      <td>4.007285</td>\n",
       "      <td>2.587429</td>\n",
       "      <td>0.100000</td>\n",
       "      <td>0.075000</td>\n",
       "      <td>0.200000</td>\n",
       "      <td>0.1000</td>\n",
       "      <td>1.0</td>\n",
       "    </tr>\n",
       "    <tr>\n",
       "      <th>...</th>\n",
       "      <td>...</td>\n",
       "      <td>...</td>\n",
       "      <td>...</td>\n",
       "      <td>...</td>\n",
       "      <td>...</td>\n",
       "      <td>...</td>\n",
       "      <td>...</td>\n",
       "      <td>...</td>\n",
       "      <td>...</td>\n",
       "      <td>...</td>\n",
       "      <td>...</td>\n",
       "      <td>...</td>\n",
       "    </tr>\n",
       "    <tr>\n",
       "      <th>766</th>\n",
       "      <td>Kansai</td>\n",
       "      <td>1000</td>\n",
       "      <td>0.819800</td>\n",
       "      <td>7.096910</td>\n",
       "      <td>5.469822</td>\n",
       "      <td>5.176091</td>\n",
       "      <td>5.909872</td>\n",
       "      <td>0.690000</td>\n",
       "      <td>0.916667</td>\n",
       "      <td>1.000000</td>\n",
       "      <td>0.9875</td>\n",
       "      <td>4.0</td>\n",
       "    </tr>\n",
       "    <tr>\n",
       "      <th>767</th>\n",
       "      <td>Kansai</td>\n",
       "      <td>1100</td>\n",
       "      <td>0.746661</td>\n",
       "      <td>7.230449</td>\n",
       "      <td>4.176091</td>\n",
       "      <td>4.602060</td>\n",
       "      <td>5.083771</td>\n",
       "      <td>0.490000</td>\n",
       "      <td>0.840000</td>\n",
       "      <td>0.985714</td>\n",
       "      <td>0.9250</td>\n",
       "      <td>5.0</td>\n",
       "    </tr>\n",
       "    <tr>\n",
       "      <th>768</th>\n",
       "      <td>Kansai</td>\n",
       "      <td>1200</td>\n",
       "      <td>0.824980</td>\n",
       "      <td>7.397940</td>\n",
       "      <td>5.469822</td>\n",
       "      <td>5.000000</td>\n",
       "      <td>5.244956</td>\n",
       "      <td>0.710000</td>\n",
       "      <td>0.925000</td>\n",
       "      <td>0.983333</td>\n",
       "      <td>0.9875</td>\n",
       "      <td>5.0</td>\n",
       "    </tr>\n",
       "    <tr>\n",
       "      <th>769</th>\n",
       "      <td>Kansai</td>\n",
       "      <td>1300</td>\n",
       "      <td>0.923083</td>\n",
       "      <td>7.462398</td>\n",
       "      <td>5.469822</td>\n",
       "      <td>6.113943</td>\n",
       "      <td>6.534359</td>\n",
       "      <td>0.857143</td>\n",
       "      <td>1.000000</td>\n",
       "      <td>1.000000</td>\n",
       "      <td>1.0000</td>\n",
       "      <td>6.0</td>\n",
       "    </tr>\n",
       "    <tr>\n",
       "      <th>770</th>\n",
       "      <td>Kansai</td>\n",
       "      <td>1400</td>\n",
       "      <td>0.924962</td>\n",
       "      <td>7.505150</td>\n",
       "      <td>5.469822</td>\n",
       "      <td>6.146128</td>\n",
       "      <td>6.534359</td>\n",
       "      <td>0.857143</td>\n",
       "      <td>1.000000</td>\n",
       "      <td>1.000000</td>\n",
       "      <td>1.0000</td>\n",
       "      <td>6.0</td>\n",
       "    </tr>\n",
       "  </tbody>\n",
       "</table>\n",
       "<p>771 rows × 12 columns</p>\n",
       "</div>"
      ],
      "text/plain": [
       "               NGA  RelTime      SPC1    PolPop   PolTerr    CapPop    levels  \\\n",
       "0    Orkhon Valley    -1900  0.315541  4.552769  5.591893  4.007285  2.587429   \n",
       "1    Orkhon Valley    -1800  0.315541  4.552769  5.591893  4.007285  2.587429   \n",
       "2    Orkhon Valley    -1700  0.315541  4.552769  5.591893  4.007285  2.587429   \n",
       "3    Orkhon Valley    -1600  0.315541  4.552769  5.591893  4.007285  2.587429   \n",
       "4    Orkhon Valley    -1500  0.315541  4.552769  5.591893  4.007285  2.587429   \n",
       "..             ...      ...       ...       ...       ...       ...       ...   \n",
       "766         Kansai     1000  0.819800  7.096910  5.469822  5.176091  5.909872   \n",
       "767         Kansai     1100  0.746661  7.230449  4.176091  4.602060  5.083771   \n",
       "768         Kansai     1200  0.824980  7.397940  5.469822  5.000000  5.244956   \n",
       "769         Kansai     1300  0.923083  7.462398  5.469822  6.113943  6.534359   \n",
       "770         Kansai     1400  0.924962  7.505150  5.469822  6.146128  6.534359   \n",
       "\n",
       "     government  infrastr   writing   texts  money  \n",
       "0      0.100000  0.075000  0.200000  0.1000    1.0  \n",
       "1      0.100000  0.075000  0.200000  0.1000    1.0  \n",
       "2      0.100000  0.075000  0.200000  0.1000    1.0  \n",
       "3      0.100000  0.075000  0.200000  0.1000    1.0  \n",
       "4      0.100000  0.075000  0.200000  0.1000    1.0  \n",
       "..          ...       ...       ...     ...    ...  \n",
       "766    0.690000  0.916667  1.000000  0.9875    4.0  \n",
       "767    0.490000  0.840000  0.985714  0.9250    5.0  \n",
       "768    0.710000  0.925000  0.983333  0.9875    5.0  \n",
       "769    0.857143  1.000000  1.000000  1.0000    6.0  \n",
       "770    0.857143  1.000000  1.000000  1.0000    6.0  \n",
       "\n",
       "[771 rows x 12 columns]"
      ]
     },
     "execution_count": 3,
     "metadata": {},
     "output_type": "execute_result"
    }
   ],
   "source": [
    "DF_Cut = pd.read_csv(\"Cutouts_CC_with_Reltime.csv\", index_col=0)\n",
    "DF_Full = pd.read_csv(\"RelTime_TimeSeries_CC.csv\", index_col=0)\n",
    "DF_Full"
   ]
  },
  {
   "cell_type": "code",
   "execution_count": 4,
   "id": "2964dd23",
   "metadata": {},
   "outputs": [],
   "source": [
    "del DF_Cut[\"NGA\"]\n",
    "del DF_Cut[\"SPC1\"]\n",
    "del DF_Full[\"NGA\"]\n",
    "del DF_Full[\"SPC1\"]"
   ]
  },
  {
   "cell_type": "code",
   "execution_count": 5,
   "id": "667e0de3",
   "metadata": {},
   "outputs": [],
   "source": [
    "X_Full =DF_Full.copy()\n",
    "del X_Full[\"PolPop\"]\n",
    "X_train, X_test, y_train, y_test  = train_test_split(X_Full, DF_Full[\"PolPop\"],\n",
    "                                                    random_state = 42)"
   ]
  },
  {
   "cell_type": "code",
   "execution_count": 6,
   "id": "20973ddb",
   "metadata": {},
   "outputs": [],
   "source": [
    "lr_RelTime = LR().fit(X_train, y_train)\n",
    "y_hat = lr_RelTime.predict(X_test)\n"
   ]
  },
  {
   "cell_type": "code",
   "execution_count": 7,
   "id": "81e702d6",
   "metadata": {},
   "outputs": [
    {
     "data": {
      "text/plain": [
       "0.8992602915402733"
      ]
     },
     "execution_count": 7,
     "metadata": {},
     "output_type": "execute_result"
    }
   ],
   "source": [
    "RhoSq(y_hat, y_test) "
   ]
  },
  {
   "cell_type": "markdown",
   "id": "40e304ec",
   "metadata": {},
   "source": [
    "### And now, without RelTime"
   ]
  },
  {
   "cell_type": "code",
   "execution_count": 8,
   "id": "78c5970e",
   "metadata": {},
   "outputs": [
    {
     "data": {
      "text/plain": [
       "0.8944725299875799"
      ]
     },
     "execution_count": 8,
     "metadata": {},
     "output_type": "execute_result"
    }
   ],
   "source": [
    "del X_Full[\"RelTime\"]\n",
    "X_train, X_test, y_train, y_test  = train_test_split(X_Full, DF_Full[\"PolPop\"],\n",
    "                                                    random_state = 42)\n",
    "lr_NoTime = LR().fit(X_train, y_train)\n",
    "y_hat_no = lr_NoTime.predict(X_test)\n",
    "RhoSq(y_hat_no, y_test)"
   ]
  },
  {
   "cell_type": "code",
   "execution_count": null,
   "id": "eb18752a",
   "metadata": {},
   "outputs": [],
   "source": []
  },
  {
   "cell_type": "code",
   "execution_count": 9,
   "id": "369f4862",
   "metadata": {},
   "outputs": [
    {
     "name": "stdout",
     "output_type": "stream",
     "text": [
      "Index(['PolPop', 'PolTerr', 'CapPop', 'levels', 'government', 'infrastr',\n",
      "       'writing', 'texts', 'money'],\n",
      "      dtype='object')\n"
     ]
    }
   ],
   "source": [
    "CCs = DF_Full.columns\n",
    "CCs = CCs[1:] # Do not train to predict RelTime\n",
    "print(CCs)"
   ]
  },
  {
   "cell_type": "code",
   "execution_count": 10,
   "id": "c5460341",
   "metadata": {},
   "outputs": [],
   "source": [
    "List_RhoSq_t = list()\n",
    "List_RhoSq_not = list()\n",
    "\n",
    "for i in range(n_CVal):\n",
    "    \n",
    "    c = random.randint(0,len(CCs)-1)\n",
    "    Target = CCs[c] # regression target\n",
    "\n",
    "    y = DF_Cut[Target]\n",
    "    X = DF_Cut.copy()\n",
    "    del X[Target]\n",
    "    \n",
    "    \n",
    "    X_train, X_test, y_train, y_test  = train_test_split(X, y,\n",
    "                                                    random_state = i)\n",
    "    # With time\n",
    "    LR_t = LR().fit(X_train, y_train)\n",
    "    y_hat = LR_t.predict(X_test)\n",
    "    List_RhoSq_t.append(RhoSq(y_hat, y_test)) \n",
    "    \n",
    "    # without time\n",
    "    del X[\"RelTime\"]\n",
    "    \n",
    "    X_train, X_test, y_train, y_test  = train_test_split(X, y,\n",
    "                                                    random_state = i)\n",
    "    LR_no = LR().fit(X_train, y_train)\n",
    "    y_hat = LR_no.predict(X_test)\n",
    "    List_RhoSq_not.append(RhoSq(y_hat, y_test) )"
   ]
  },
  {
   "cell_type": "code",
   "execution_count": 11,
   "id": "615ea1a2",
   "metadata": {},
   "outputs": [],
   "source": [
    "Difference = np.array(List_RhoSq_t) -  np.array(List_RhoSq_not)"
   ]
  },
  {
   "cell_type": "code",
   "execution_count": 12,
   "id": "24a678fe",
   "metadata": {},
   "outputs": [
    {
     "data": {
      "text/plain": [
       "(0.002338046135108548, 0.005915843091870299)"
      ]
     },
     "execution_count": 12,
     "metadata": {},
     "output_type": "execute_result"
    }
   ],
   "source": [
    "np.mean(Difference), np.std(Difference)"
   ]
  },
  {
   "cell_type": "code",
   "execution_count": 13,
   "id": "a2423bfd",
   "metadata": {},
   "outputs": [
    {
     "data": {
      "text/plain": [
       "(array([1.000e+00, 5.000e+00, 2.700e+01, 1.350e+02, 1.370e+03, 6.798e+03,\n",
       "        1.006e+03, 4.760e+02, 1.590e+02, 2.300e+01]),\n",
       " array([-0.03810828, -0.03079211, -0.02347593, -0.01615976, -0.00884359,\n",
       "        -0.00152741,  0.00578876,  0.01310493,  0.02042111,  0.02773728,\n",
       "         0.03505345]),\n",
       " <BarContainer object of 10 artists>)"
      ]
     },
     "execution_count": 13,
     "metadata": {},
     "output_type": "execute_result"
    },
    {
     "data": {
      "image/png": "[encoded data removed]",
      "text/plain": [
       "<Figure size 432x288 with 1 Axes>"
      ]
     },
     "metadata": {
      "needs_background": "light"
     },
     "output_type": "display_data"
    }
   ],
   "source": [
    "plt.hist(Difference)"
   ]
  }
 ],
 "metadata": {
  "kernelspec": {
   "display_name": "Python 3 (ipykernel)",
   "language": "python",
   "name": "python3"
  },
  "language_info": {
   "codemirror_mode": {
    "name": "ipython",
    "version": 3
   },
   "file_extension": ".py",
   "mimetype": "text/x-python",
   "name": "python",
   "nbconvert_exporter": "python",
   "pygments_lexer": "ipython3",
   "version": "3.9.7"
  }
 },
 "nbformat": 4,
 "nbformat_minor": 5
}
